{
 "cells": [
  {
   "cell_type": "markdown",
   "metadata": {},
   "source": [
    "# Group assignment IBM 322\n",
    "# Karanjit Singh\n",
    "# 21117058\n",
    "# Gaussian Mixture Modelling"
   ]
  },
  {
   "cell_type": "code",
   "execution_count": 1,
   "metadata": {},
   "outputs": [],
   "source": [
    "import pandas as pd\n",
    "import numpy as np\n",
    "import matplotlib.pyplot as plt\n",
    "\n",
    "import os\n",
    "import random\n",
    "from PIL import Image\n",
    "\n",
    "from sklearn.preprocessing import StandardScaler\n",
    "from sklearn.model_selection import train_test_split\n",
    "from sklearn.linear_model import LogisticRegression\n",
    "from sklearn.metrics import accuracy_score, classification_report, confusion_matrix"
   ]
  },
  {
   "cell_type": "code",
   "execution_count": 2,
   "metadata": {},
   "outputs": [],
   "source": [
    "def load_images(folder_path, label, num_images):\n",
    "\n",
    "    # Listing all files in the folder\n",
    "    files = os.listdir(folder_path)\n",
    "\n",
    "    # Filtering out only image files\n",
    "    image_files = [file for file in files if file.lower().endswith(('.png', '.jpg'))]\n",
    "\n",
    "    selected_files = random.sample(image_files,num_images)\n",
    "\n",
    "    # lists to store images and labels\n",
    "    images = []\n",
    "    labels = []\n",
    "\n",
    "    # Adding image files to the lists\n",
    "    for image_file in selected_files:\n",
    "        image_path = os.path.join(folder_path, image_file)\n",
    "\n",
    "        try:\n",
    "            # Opening and resizing the image to a common size\n",
    "            img = Image.open(image_path).resize((32, 32))\n",
    "\n",
    "            # Converting the image to a numpy array and flattening it\n",
    "            img_array = np.array(img).flatten()\n",
    "\n",
    "            # Append the flattened image to the list of images\n",
    "            images.append(img_array)\n",
    "\n",
    "            # Assign the label based on the provided label argument\n",
    "            labels.append(label)\n",
    "\n",
    "            # Closing the image\n",
    "            img.close()\n",
    "        except Exception as e:\n",
    "            print(f\"Error processing {image_file}: {str(e)}\")\n",
    "\n",
    "    return np.array(images), np.array(labels)"
   ]
  },
  {
   "cell_type": "code",
   "execution_count": 3,
   "metadata": {},
   "outputs": [],
   "source": [
    "num_images_per_class=50000\n",
    "real_images, real_labels = load_images(r\"C:\\Users\\hp\\OneDrive\\Desktop\\ibm\\train\\REAL\", label=1,num_images=num_images_per_class)\n",
    "fake_images, fake_labels = load_images(r\"C:\\Users\\hp\\OneDrive\\Desktop\\ibm\\train\\FAKE\", label=0,num_images=num_images_per_class)"
   ]
  },
  {
   "cell_type": "code",
   "execution_count": 4,
   "metadata": {},
   "outputs": [],
   "source": [
    "all_images = np.concatenate((real_images, fake_images), axis=0)\n",
    "all_labels = np.concatenate((real_labels, fake_labels), axis=0)"
   ]
  },
  {
   "cell_type": "code",
   "execution_count": 6,
   "metadata": {},
   "outputs": [
    {
     "name": "stdout",
     "output_type": "stream",
     "text": [
      "[[  7   0   1 ...  10  21  27]\n",
      " [144 143  89 ... 141 137  50]\n",
      " [168 192 228 ...  98 137 154]\n",
      " ...\n",
      " [  0  46  68 ... 173 155 155]\n",
      " [149 146 141 ...  89  98 115]\n",
      " [ 18   0   0 ... 123  64  32]]\n",
      "[1 1 1 ... 0 0 0]\n"
     ]
    }
   ],
   "source": [
    "print(all_images)\n",
    "print(all_labels)"
   ]
  },
  {
   "cell_type": "code",
   "execution_count": 20,
   "metadata": {},
   "outputs": [],
   "source": [
    "# Shuffling the indices\n",
    "indices = np.arange(all_images.shape[0])\n",
    "np.random.shuffle(indices)\n",
    "\n",
    "# Using the shuffled indices to shuffle the images and labels\n",
    "shuffled_images = all_images[indices]\n",
    "shuffled_labels = all_labels[indices]"
   ]
  },
  {
   "cell_type": "code",
   "execution_count": 23,
   "metadata": {},
   "outputs": [
    {
     "name": "stdout",
     "output_type": "stream",
     "text": [
      "[[-0.59800536 -0.40321443 -0.51464464 ...  1.75928582  0.3408114\n",
      "  -0.30047951]\n",
      " [ 2.00142726  1.9556149   1.70896529 ...  1.3507758   1.19553184\n",
      "   0.53476329]\n",
      " [ 0.234962    0.31158234  0.58480694 ...  0.99128699  1.27932796\n",
      "   1.44593726]\n",
      " ...\n",
      " [-1.41661122 -1.50400144 -1.03348695 ...  1.97171104  2.08377073\n",
      "   2.00782787]\n",
      " [ 1.1684599   1.05497098  1.11600265 ...  0.45205376  0.57544054\n",
      "   0.73218432]\n",
      " [-0.56928235 -0.61765345 -0.62582513 ... -0.08717947 -0.98316733\n",
      "  -0.92311505]]\n"
     ]
    }
   ],
   "source": [
    "scaler = StandardScaler()\n",
    "scaled_images = scaler.fit_transform(shuffled_images)\n",
    "print(scaled_images)"
   ]
  },
  {
   "cell_type": "code",
   "execution_count": 24,
   "metadata": {},
   "outputs": [
    {
     "name": "stdout",
     "output_type": "stream",
     "text": [
      "[0 1 1 ... 1 1 0]\n"
     ]
    }
   ],
   "source": [
    "print(shuffled_labels)"
   ]
  },
  {
   "cell_type": "code",
   "execution_count": 25,
   "metadata": {},
   "outputs": [],
   "source": [
    "# Splitting the training data into training and testing sets 60/40 split\n",
    "X_train, X_test, y_train, y_test = train_test_split(scaled_images, shuffled_labels, test_size=0.4, random_state=42)\n"
   ]
  },
  {
   "cell_type": "code",
   "execution_count": 27,
   "metadata": {},
   "outputs": [
    {
     "data": {
      "text/html": [
       "<style>#sk-container-id-2 {color: black;}#sk-container-id-2 pre{padding: 0;}#sk-container-id-2 div.sk-toggleable {background-color: white;}#sk-container-id-2 label.sk-toggleable__label {cursor: pointer;display: block;width: 100%;margin-bottom: 0;padding: 0.3em;box-sizing: border-box;text-align: center;}#sk-container-id-2 label.sk-toggleable__label-arrow:before {content: \"▸\";float: left;margin-right: 0.25em;color: #696969;}#sk-container-id-2 label.sk-toggleable__label-arrow:hover:before {color: black;}#sk-container-id-2 div.sk-estimator:hover label.sk-toggleable__label-arrow:before {color: black;}#sk-container-id-2 div.sk-toggleable__content {max-height: 0;max-width: 0;overflow: hidden;text-align: left;background-color: #f0f8ff;}#sk-container-id-2 div.sk-toggleable__content pre {margin: 0.2em;color: black;border-radius: 0.25em;background-color: #f0f8ff;}#sk-container-id-2 input.sk-toggleable__control:checked~div.sk-toggleable__content {max-height: 200px;max-width: 100%;overflow: auto;}#sk-container-id-2 input.sk-toggleable__control:checked~label.sk-toggleable__label-arrow:before {content: \"▾\";}#sk-container-id-2 div.sk-estimator input.sk-toggleable__control:checked~label.sk-toggleable__label {background-color: #d4ebff;}#sk-container-id-2 div.sk-label input.sk-toggleable__control:checked~label.sk-toggleable__label {background-color: #d4ebff;}#sk-container-id-2 input.sk-hidden--visually {border: 0;clip: rect(1px 1px 1px 1px);clip: rect(1px, 1px, 1px, 1px);height: 1px;margin: -1px;overflow: hidden;padding: 0;position: absolute;width: 1px;}#sk-container-id-2 div.sk-estimator {font-family: monospace;background-color: #f0f8ff;border: 1px dotted black;border-radius: 0.25em;box-sizing: border-box;margin-bottom: 0.5em;}#sk-container-id-2 div.sk-estimator:hover {background-color: #d4ebff;}#sk-container-id-2 div.sk-parallel-item::after {content: \"\";width: 100%;border-bottom: 1px solid gray;flex-grow: 1;}#sk-container-id-2 div.sk-label:hover label.sk-toggleable__label {background-color: #d4ebff;}#sk-container-id-2 div.sk-serial::before {content: \"\";position: absolute;border-left: 1px solid gray;box-sizing: border-box;top: 0;bottom: 0;left: 50%;z-index: 0;}#sk-container-id-2 div.sk-serial {display: flex;flex-direction: column;align-items: center;background-color: white;padding-right: 0.2em;padding-left: 0.2em;position: relative;}#sk-container-id-2 div.sk-item {position: relative;z-index: 1;}#sk-container-id-2 div.sk-parallel {display: flex;align-items: stretch;justify-content: center;background-color: white;position: relative;}#sk-container-id-2 div.sk-item::before, #sk-container-id-2 div.sk-parallel-item::before {content: \"\";position: absolute;border-left: 1px solid gray;box-sizing: border-box;top: 0;bottom: 0;left: 50%;z-index: -1;}#sk-container-id-2 div.sk-parallel-item {display: flex;flex-direction: column;z-index: 1;position: relative;background-color: white;}#sk-container-id-2 div.sk-parallel-item:first-child::after {align-self: flex-end;width: 50%;}#sk-container-id-2 div.sk-parallel-item:last-child::after {align-self: flex-start;width: 50%;}#sk-container-id-2 div.sk-parallel-item:only-child::after {width: 0;}#sk-container-id-2 div.sk-dashed-wrapped {border: 1px dashed gray;margin: 0 0.4em 0.5em 0.4em;box-sizing: border-box;padding-bottom: 0.4em;background-color: white;}#sk-container-id-2 div.sk-label label {font-family: monospace;font-weight: bold;display: inline-block;line-height: 1.2em;}#sk-container-id-2 div.sk-label-container {text-align: center;}#sk-container-id-2 div.sk-container {/* jupyter's `normalize.less` sets `[hidden] { display: none; }` but bootstrap.min.css set `[hidden] { display: none !important; }` so we also need the `!important` here to be able to override the default hidden behavior on the sphinx rendered scikit-learn.org. See: https://github.com/scikit-learn/scikit-learn/issues/21755 */display: inline-block !important;position: relative;}#sk-container-id-2 div.sk-text-repr-fallback {display: none;}</style><div id=\"sk-container-id-2\" class=\"sk-top-container\"><div class=\"sk-text-repr-fallback\"><pre>GaussianMixture(n_components=2)</pre><b>In a Jupyter environment, please rerun this cell to show the HTML representation or trust the notebook. <br />On GitHub, the HTML representation is unable to render, please try loading this page with nbviewer.org.</b></div><div class=\"sk-container\" hidden><div class=\"sk-item\"><div class=\"sk-estimator sk-toggleable\"><input class=\"sk-toggleable__control sk-hidden--visually\" id=\"sk-estimator-id-2\" type=\"checkbox\" checked><label for=\"sk-estimator-id-2\" class=\"sk-toggleable__label sk-toggleable__label-arrow\">GaussianMixture</label><div class=\"sk-toggleable__content\"><pre>GaussianMixture(n_components=2)</pre></div></div></div></div></div>"
      ],
      "text/plain": [
       "GaussianMixture(n_components=2)"
      ]
     },
     "execution_count": 27,
     "metadata": {},
     "output_type": "execute_result"
    }
   ],
   "source": [
    "from sklearn.mixture import GaussianMixture\n",
    "gmm = GaussianMixture(n_components=2)\n",
    "gmm.fit(X_train)"
   ]
  },
  {
   "cell_type": "code",
   "execution_count": 28,
   "metadata": {},
   "outputs": [
    {
     "data": {
      "text/plain": [
       "array([1, 1, 0, ..., 0, 1, 0], dtype=int64)"
      ]
     },
     "execution_count": 28,
     "metadata": {},
     "output_type": "execute_result"
    }
   ],
   "source": [
    "z=gmm.predict(X_test)\n",
    "z"
   ]
  },
  {
   "cell_type": "code",
   "execution_count": 41,
   "metadata": {},
   "outputs": [
    {
     "name": "stdout",
     "output_type": "stream",
     "text": [
      "[[-0.21117905 -0.22053417 -0.3045239  ... -0.07160053 -0.15377584\n",
      "  -0.28818915]\n",
      " [ 0.09495767  0.09802551  0.13751986 ...  0.03557691  0.07243379\n",
      "   0.135802  ]]\n"
     ]
    }
   ],
   "source": [
    "print(gmm.means_)\n"
   ]
  },
  {
   "cell_type": "code",
   "execution_count": 56,
   "metadata": {},
   "outputs": [],
   "source": [
    "import csv"
   ]
  },
  {
   "cell_type": "code",
   "execution_count": 72,
   "metadata": {},
   "outputs": [],
   "source": [
    "# with open('Mean for fake.csv', 'w') as csvfile:\n",
    "#     writer = csv.writer(csvfile, lineterminator='', escapechar='\\\\')\n",
    "#     q=[gmm.means_[0]]\n",
    "#     for row in q:\n",
    "#         writer.writerow(row)\n"
   ]
  },
  {
   "cell_type": "code",
   "execution_count": 74,
   "metadata": {},
   "outputs": [],
   "source": [
    "# with open('Mean for real.csv', 'w') as csvfile:\n",
    "#     writer = csv.writer(csvfile, lineterminator='', escapechar='\\\\')\n",
    "#     q=[gmm.means_[1]]\n",
    "#     for row in q:\n",
    "#         writer.writerow(row)"
   ]
  },
  {
   "cell_type": "code",
   "execution_count": 29,
   "metadata": {},
   "outputs": [
    {
     "data": {
      "text/plain": [
       "0.638725"
      ]
     },
     "execution_count": 29,
     "metadata": {},
     "output_type": "execute_result"
    }
   ],
   "source": [
    "accuracy_score(y_test,z)"
   ]
  },
  {
   "cell_type": "code",
   "execution_count": 75,
   "metadata": {},
   "outputs": [
    {
     "name": "stdout",
     "output_type": "stream",
     "text": [
      "[[ 9492 10400]\n",
      " [ 4051 16057]]\n"
     ]
    }
   ],
   "source": [
    "print(confusion_matrix(y_test,z))"
   ]
  },
  {
   "cell_type": "code",
   "execution_count": 33,
   "metadata": {},
   "outputs": [
    {
     "name": "stdout",
     "output_type": "stream",
     "text": [
      "              precision    recall  f1-score   support\n",
      "\n",
      "           0       0.70      0.48      0.57     19892\n",
      "           1       0.61      0.80      0.69     20108\n",
      "\n",
      "    accuracy                           0.64     40000\n",
      "   macro avg       0.65      0.64      0.63     40000\n",
      "weighted avg       0.65      0.64      0.63     40000\n",
      "\n"
     ]
    }
   ],
   "source": [
    "print(classification_report(y_test,z))"
   ]
  }
 ],
 "metadata": {
  "kernelspec": {
   "display_name": "Python 3",
   "language": "python",
   "name": "python3"
  },
  "language_info": {
   "codemirror_mode": {
    "name": "ipython",
    "version": 3
   },
   "file_extension": ".py",
   "mimetype": "text/x-python",
   "name": "python",
   "nbconvert_exporter": "python",
   "pygments_lexer": "ipython3",
   "version": "3.10.4"
  }
 },
 "nbformat": 4,
 "nbformat_minor": 2
}
